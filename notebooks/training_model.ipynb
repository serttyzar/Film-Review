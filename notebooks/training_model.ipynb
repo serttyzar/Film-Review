{
 "cells": [
  {
   "cell_type": "code",
   "execution_count": 6,
   "metadata": {},
   "outputs": [],
   "source": [
    "from sklearn.datasets import load_files\n",
    "import pandas as pd\n",
    "from sklearn.model_selection import train_test_split\n",
    "from sklearn.feature_extraction.text import TfidfVectorizer\n",
    "from sklearn.linear_model import LogisticRegression\n",
    "from sklearn.metrics import accuracy_score, classification_report, roc_auc_score\n",
    "import pickle\n",
    "from sklearn.ensemble import RandomForestClassifier, GradientBoostingClassifier\n",
    "import nltk\n",
    "from nltk.sentiment import SentimentIntensityAnalyzer\n",
    "from sklearn.preprocessing import StandardScaler\n",
    "from sklearn.model_selection import cross_val_score"
   ]
  },
  {
   "cell_type": "code",
   "execution_count": 7,
   "metadata": {},
   "outputs": [
    {
     "data": {
      "text/html": [
       "<div>\n",
       "<style scoped>\n",
       "    .dataframe tbody tr th:only-of-type {\n",
       "        vertical-align: middle;\n",
       "    }\n",
       "\n",
       "    .dataframe tbody tr th {\n",
       "        vertical-align: top;\n",
       "    }\n",
       "\n",
       "    .dataframe thead th {\n",
       "        text-align: right;\n",
       "    }\n",
       "</style>\n",
       "<table border=\"1\" class=\"dataframe\">\n",
       "  <thead>\n",
       "    <tr style=\"text-align: right;\">\n",
       "      <th></th>\n",
       "      <th>review</th>\n",
       "      <th>sentiment</th>\n",
       "    </tr>\n",
       "  </thead>\n",
       "  <tbody>\n",
       "    <tr>\n",
       "      <th>0</th>\n",
       "      <td>Zero Day leads you to think, even re-think why...</td>\n",
       "      <td>1</td>\n",
       "    </tr>\n",
       "    <tr>\n",
       "      <th>1</th>\n",
       "      <td>Words can't describe how bad this movie is. I ...</td>\n",
       "      <td>0</td>\n",
       "    </tr>\n",
       "    <tr>\n",
       "      <th>2</th>\n",
       "      <td>Everyone plays their part pretty well in this ...</td>\n",
       "      <td>1</td>\n",
       "    </tr>\n",
       "    <tr>\n",
       "      <th>3</th>\n",
       "      <td>There are a lot of highly talented filmmakers/...</td>\n",
       "      <td>0</td>\n",
       "    </tr>\n",
       "    <tr>\n",
       "      <th>4</th>\n",
       "      <td>I've just had the evidence that confirmed my s...</td>\n",
       "      <td>0</td>\n",
       "    </tr>\n",
       "  </tbody>\n",
       "</table>\n",
       "</div>"
      ],
      "text/plain": [
       "                                              review  sentiment\n",
       "0  Zero Day leads you to think, even re-think why...          1\n",
       "1  Words can't describe how bad this movie is. I ...          0\n",
       "2  Everyone plays their part pretty well in this ...          1\n",
       "3  There are a lot of highly talented filmmakers/...          0\n",
       "4  I've just had the evidence that confirmed my s...          0"
      ]
     },
     "execution_count": 7,
     "metadata": {},
     "output_type": "execute_result"
    }
   ],
   "source": [
    "dataset = load_files(\"../data/train/\", categories=['pos', 'neg'], encoding='utf-8')\n",
    "X, y = dataset.data, dataset.target\n",
    "df = pd.DataFrame({'review': X, 'sentiment': y})\n",
    "df.head()"
   ]
  },
  {
   "cell_type": "markdown",
   "metadata": {},
   "source": [
    "Проведем векторизацию текста с использованием TFIDF, а так же выделение слов положительной и отрицательной тональности с помощью SentimentIntensityAnalyzer()"
   ]
  },
  {
   "cell_type": "code",
   "execution_count": 8,
   "metadata": {},
   "outputs": [
    {
     "name": "stderr",
     "output_type": "stream",
     "text": [
      "[nltk_data] Downloading package vader_lexicon to\n",
      "[nltk_data]     /home/serttyzar/nltk_data...\n",
      "[nltk_data]   Package vader_lexicon is already up-to-date!\n"
     ]
    }
   ],
   "source": [
    "tfidf_vectorizer = TfidfVectorizer(stop_words='english', max_features=10000)\n",
    "X_tfidf = tfidf_vectorizer.fit_transform(df['review'])\n",
    "tfidf_df = pd.DataFrame(X_tfidf.toarray(), columns=tfidf_vectorizer.get_feature_names_out())\n",
    "\n",
    "nltk.download('vader_lexicon')\n",
    "sia = SentimentIntensityAnalyzer()\n",
    "\n",
    "def get_sentiment_scores(text):\n",
    "    sentiment_scores = sia.polarity_scores(text)\n",
    "    return [sentiment_scores['neg'], sentiment_scores['pos']]\n",
    "\n",
    "sentiment_features = pd.DataFrame([get_sentiment_scores(review) for review in df['review']],\n",
    "                                  columns=['neg', 'pos'])\n",
    "\n",
    "X = pd.concat([tfidf_df, sentiment_features], axis=1)\n",
    "\n",
    "X_train, X_test, y_train, y_test = train_test_split(X, y, test_size=0.2, random_state=42)"
   ]
  },
  {
   "cell_type": "markdown",
   "metadata": {},
   "source": [
    "Baseline - LogisticRegression"
   ]
  },
  {
   "cell_type": "code",
   "execution_count": 9,
   "metadata": {},
   "outputs": [
    {
     "name": "stdout",
     "output_type": "stream",
     "text": [
      "Accuracy: 0.8794\n",
      "ROC-AUC: 0.9480\n",
      "              precision    recall  f1-score   support\n",
      "\n",
      "    Negative       0.88      0.87      0.88      2482\n",
      "    Positive       0.87      0.89      0.88      2518\n",
      "\n",
      "    accuracy                           0.88      5000\n",
      "   macro avg       0.88      0.88      0.88      5000\n",
      "weighted avg       0.88      0.88      0.88      5000\n",
      "\n"
     ]
    }
   ],
   "source": [
    "logistic_regression_model = LogisticRegression(max_iter=1000)\n",
    "logistic_regression_model.fit(X_train, y_train)\n",
    "y_pred = logistic_regression_model.predict(X_test)\n",
    "y_proba = logistic_regression_model.predict_proba(X_test)[:, 1]\n",
    "print(f\"Accuracy: {accuracy_score(y_test, y_pred):.4f}\")\n",
    "print(f'ROC-AUC: {roc_auc_score(y_test, y_proba):.4f}')\n",
    "print(classification_report(y_test, y_pred, target_names=['Negative', 'Positive']))"
   ]
  },
  {
   "cell_type": "code",
   "execution_count": 11,
   "metadata": {},
   "outputs": [],
   "source": [
    "with open('../models/logistic_model.pkl', 'wb') as model_file:\n",
    "    pickle.dump(logistic_regression_model, model_file)\n",
    "with open('../models/tfidf_vectorizer.pkl', 'wb') as vectorizer_file:\n",
    "    pickle.dump(tfidf_vectorizer, vectorizer_file)\n",
    "with open('../models/sentiment_analyzer.pkl', 'wb') as sia_file:\n",
    "    pickle.dump(sia, sia_file)"
   ]
  },
  {
   "cell_type": "markdown",
   "metadata": {},
   "source": [
    "Try to make some other models:\n",
    "RandomForest and GradientBoostingClassifier"
   ]
  },
  {
   "cell_type": "code",
   "execution_count": 6,
   "metadata": {},
   "outputs": [
    {
     "name": "stdout",
     "output_type": "stream",
     "text": [
      "Model: Random Forest\n",
      "Accuracy: 0.8428\n",
      "ROC-AUC: 0.9229\n",
      "Model: Gradient Boosting\n",
      "Accuracy: 0.8090\n",
      "ROC-AUC: 0.8941\n"
     ]
    }
   ],
   "source": [
    "rf_model = RandomForestClassifier(random_state=42)\n",
    "rf_model.fit(X_train, y_train)\n",
    "\n",
    "gb_model = GradientBoostingClassifier(random_state=42)\n",
    "gb_model.fit(X_train, y_train)\n",
    "models = {'Random Forest': rf_model, 'Gradient Boosting': gb_model}\n",
    "\n",
    "for model_name, model in models.items():\n",
    "    y_proba = model.predict_proba(X_test)[:, 1]\n",
    "    y_pred = model.predict(X_test)\n",
    "    print(f\"Model: {model_name}\")\n",
    "    print(f\"Accuracy: {accuracy_score(y_test, y_pred):.4f}\")\n",
    "    print(f'ROC-AUC: {roc_auc_score(y_test, y_proba):.4f}')"
   ]
  },
  {
   "cell_type": "markdown",
   "metadata": {},
   "source": [
    "Оценки этих моделей ниже чем у регрессии. Это может быть связано с тем, что данные модели требуют тщательного подбора гиперпараметров, а возможно данные достаточно простые, обладают линейной зависимостью и использование данных моделей излишне."
   ]
  },
  {
   "cell_type": "markdown",
   "metadata": {},
   "source": [
    "Проверим регрессию и лес на тестовом датасете"
   ]
  },
  {
   "cell_type": "code",
   "execution_count": 7,
   "metadata": {},
   "outputs": [],
   "source": [
    "dataset = load_files(\"../data/test/\", categories=['pos', 'neg'], encoding='utf-8')\n",
    "X_test_data, y_test_data = dataset.data, dataset.target\n",
    "df_test = pd.DataFrame({'review': X_test_data, 'sentiment': y_test_data})\n",
    "X_tfidf_test_data = tfidf_vectorizer.transform(df_test['review'])\n",
    "tfidf_df_test_data = pd.DataFrame(X_tfidf_test_data.toarray(), columns=tfidf_vectorizer.get_feature_names_out())\n",
    "sentiment_features_test = pd.DataFrame([get_sentiment_scores(review) for review in df_test['review']],\n",
    "                                  columns=['neg', 'pos'])\n",
    "X_test_data = pd.concat([tfidf_df_test_data, sentiment_features_test], axis=1)"
   ]
  },
  {
   "cell_type": "code",
   "execution_count": 8,
   "metadata": {},
   "outputs": [
    {
     "name": "stdout",
     "output_type": "stream",
     "text": [
      "Model: Logistic Regression\n",
      "Accuracy: 0.8753\n",
      "ROC-AUC: 0.9467\n",
      "              precision    recall  f1-score   support\n",
      "\n",
      "    Negative       0.87      0.88      0.88     12500\n",
      "    Positive       0.88      0.87      0.87     12500\n",
      "\n",
      "    accuracy                           0.88     25000\n",
      "   macro avg       0.88      0.88      0.88     25000\n",
      "weighted avg       0.88      0.88      0.88     25000\n",
      "\n",
      "Model: Random Forest\n",
      "Accuracy: 0.8456\n",
      "ROC-AUC: 0.9261\n",
      "              precision    recall  f1-score   support\n",
      "\n",
      "    Negative       0.83      0.86      0.85     12500\n",
      "    Positive       0.86      0.83      0.84     12500\n",
      "\n",
      "    accuracy                           0.85     25000\n",
      "   macro avg       0.85      0.85      0.85     25000\n",
      "weighted avg       0.85      0.85      0.85     25000\n",
      "\n"
     ]
    }
   ],
   "source": [
    "print(f\"Model: Logistic Regression\")\n",
    "y_pred = logistic_regression_model.predict(X_test_data)\n",
    "y_proba = logistic_regression_model.predict_proba(X_test_data)[:, 1]\n",
    "print(f\"Accuracy: {accuracy_score(y_test_data, y_pred):.4f}\")\n",
    "print(f'ROC-AUC: {roc_auc_score(y_test_data, y_proba):.4f}')\n",
    "print(classification_report(y_test_data, y_pred, target_names=['Negative', 'Positive']))\n",
    "\n",
    "print(f\"Model: Random Forest\")\n",
    "y_pred = rf_model.predict(X_test_data)\n",
    "y_proba = rf_model.predict_proba(X_test_data)[:, 1]\n",
    "print(f\"Accuracy: {accuracy_score(y_test_data, y_pred):.4f}\")\n",
    "print(f'ROC-AUC: {roc_auc_score(y_test_data, y_proba):.4f}')\n",
    "print(classification_report(y_test_data, y_pred, target_names=['Negative', 'Positive']))"
   ]
  },
  {
   "cell_type": "markdown",
   "metadata": {},
   "source": [
    "Для лучшего обучения модели обучим ее на всех доступных данных с предобработкой текста"
   ]
  },
  {
   "cell_type": "code",
   "execution_count": 9,
   "metadata": {},
   "outputs": [
    {
     "data": {
      "text/html": [
       "<div>\n",
       "<style scoped>\n",
       "    .dataframe tbody tr th:only-of-type {\n",
       "        vertical-align: middle;\n",
       "    }\n",
       "\n",
       "    .dataframe tbody tr th {\n",
       "        vertical-align: top;\n",
       "    }\n",
       "\n",
       "    .dataframe thead th {\n",
       "        text-align: right;\n",
       "    }\n",
       "</style>\n",
       "<table border=\"1\" class=\"dataframe\">\n",
       "  <thead>\n",
       "    <tr style=\"text-align: right;\">\n",
       "      <th></th>\n",
       "      <th>review</th>\n",
       "      <th>sentiment</th>\n",
       "    </tr>\n",
       "  </thead>\n",
       "  <tbody>\n",
       "    <tr>\n",
       "      <th>0</th>\n",
       "      <td>Zero Day leads you to think, even re-think why...</td>\n",
       "      <td>1</td>\n",
       "    </tr>\n",
       "    <tr>\n",
       "      <th>1</th>\n",
       "      <td>Words can't describe how bad this movie is. I ...</td>\n",
       "      <td>0</td>\n",
       "    </tr>\n",
       "    <tr>\n",
       "      <th>2</th>\n",
       "      <td>Everyone plays their part pretty well in this ...</td>\n",
       "      <td>1</td>\n",
       "    </tr>\n",
       "    <tr>\n",
       "      <th>3</th>\n",
       "      <td>There are a lot of highly talented filmmakers/...</td>\n",
       "      <td>0</td>\n",
       "    </tr>\n",
       "    <tr>\n",
       "      <th>4</th>\n",
       "      <td>I've just had the evidence that confirmed my s...</td>\n",
       "      <td>0</td>\n",
       "    </tr>\n",
       "  </tbody>\n",
       "</table>\n",
       "</div>"
      ],
      "text/plain": [
       "                                              review  sentiment\n",
       "0  Zero Day leads you to think, even re-think why...          1\n",
       "1  Words can't describe how bad this movie is. I ...          0\n",
       "2  Everyone plays their part pretty well in this ...          1\n",
       "3  There are a lot of highly talented filmmakers/...          0\n",
       "4  I've just had the evidence that confirmed my s...          0"
      ]
     },
     "execution_count": 9,
     "metadata": {},
     "output_type": "execute_result"
    },
    {
     "ename": "",
     "evalue": "",
     "output_type": "error",
     "traceback": [
      "\u001b[1;31mThe Kernel crashed while executing code in the current cell or a previous cell. \n",
      "\u001b[1;31mPlease review the code in the cell(s) to identify a possible cause of the failure. \n",
      "\u001b[1;31mClick <a href='https://aka.ms/vscodeJupyterKernelCrash'>here</a> for more info. \n",
      "\u001b[1;31mView Jupyter <a href='command:jupyter.viewOutput'>log</a> for further details."
     ]
    }
   ],
   "source": [
    "df_full = pd.concat([df, df_test], ignore_index=True)\n",
    "df_full = df_full.drop_duplicates(subset='review', keep='first')\n",
    "df_full.head()"
   ]
  },
  {
   "cell_type": "code",
   "execution_count": null,
   "metadata": {},
   "outputs": [],
   "source": [
    "y_full = df_full['sentiment']\n",
    "tfidf_vectorizer_prod = TfidfVectorizer(stop_words='english', max_features=6000, max_df=0.9, min_df=5)\n",
    "X_full_tfidf = tfidf_vectorizer_prod.fit_transform(df_full['review'])\n",
    "tfidf_df_full = pd.DataFrame(X_full_tfidf.toarray(), columns=tfidf_vectorizer_prod.get_feature_names_out())\n",
    "\n",
    "sentiment_features_full = pd.DataFrame([get_sentiment_scores(review) for review in df_full['review']],\n",
    "                                       columns=['neg', 'pos'])\n",
    "\n",
    "X_full_combined = pd.concat([tfidf_df_full, sentiment_features_full], axis=1)\n",
    "\n",
    "logistic_regression_model_no_scale = LogisticRegression(max_iter=1000)\n",
    "cv_scores_no_scale = cross_val_score(logistic_regression_model_no_scale, X_full_combined, y_full, cv=5, scoring='accuracy')\n",
    "logistic_regression_model_no_scale.fit(X_full_combined, y_full)\n",
    "print(f\"Cross-validation accuracy scores (no scaling): {cv_scores_no_scale}\")\n",
    "print(f\"Mean CV accuracy (no scaling): {cv_scores_no_scale.mean():.4f}\")\n",
    "\n",
    "\n",
    "scaler = StandardScaler()\n",
    "X_full_combined_scaled = scaler.fit_transform(X_full_combined)\n",
    "logistic_regression_model_with_scale = LogisticRegression(max_iter=1000)\n",
    "cv_scores_with_scale = cross_val_score(logistic_regression_model_with_scale, X_full_combined_scaled, y_full, cv=5, scoring='accuracy')\n",
    "logistic_regression_model_with_scale.fit(X_full_combined_scaled, y_full)\n",
    "print(f\"Cross-validation accuracy scores (with scaling): {cv_scores_with_scale}\")\n",
    "print(f\"Mean CV accuracy (with scaling): {cv_scores_with_scale.mean():.4f}\")"
   ]
  }
 ],
 "metadata": {
  "kernelspec": {
   "display_name": "Python 3",
   "language": "python",
   "name": "python3"
  },
  "language_info": {
   "codemirror_mode": {
    "name": "ipython",
    "version": 3
   },
   "file_extension": ".py",
   "mimetype": "text/x-python",
   "name": "python",
   "nbconvert_exporter": "python",
   "pygments_lexer": "ipython3",
   "version": "3.12.3"
  }
 },
 "nbformat": 4,
 "nbformat_minor": 2
}
